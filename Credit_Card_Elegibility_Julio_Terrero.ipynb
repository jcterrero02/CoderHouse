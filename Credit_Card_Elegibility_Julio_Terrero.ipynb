{
  "nbformat": 4,
  "nbformat_minor": 0,
  "metadata": {
    "colab": {
      "provenance": [],
      "authorship_tag": "ABX9TyOz2pHZ6UEvwhQrsyxrRzZ0",
      "include_colab_link": true
    },
    "kernelspec": {
      "name": "python3",
      "display_name": "Python 3"
    },
    "language_info": {
      "name": "python"
    }
  },
  "cells": [
    {
      "cell_type": "markdown",
      "metadata": {
        "id": "view-in-github",
        "colab_type": "text"
      },
      "source": [
        "<a href=\"https://colab.research.google.com/github/jcterrero02/CoderHouse/blob/main/Credit_Card_Elegibility_Julio_Terrero.ipynb\" target=\"_parent\"><img src=\"https://colab.research.google.com/assets/colab-badge.svg\" alt=\"Open In Colab\"/></a>"
      ]
    },
    {
      "cell_type": "code",
      "execution_count": 1,
      "metadata": {
        "id": "tjhYpoGT0YYk"
      },
      "outputs": [],
      "source": [
        "# Importamos las librerias a utilizar\n",
        "import pandas as pd\n",
        "import matplotlib.pyplot as plt\n",
        "import seaborn as sns"
      ]
    },
    {
      "cell_type": "code",
      "source": [
        "# Url del dataset hosteado en Github, con informacion sobre aprobaciones de tarjetas de credito\n",
        "url = r'https://github.com/jcterrero02/CoderHouse/blob/c0ce8360238cc0c0617326737689add4c4be13dd/Fundamentos%20para%20la%20Ciencia%20de%20Datos/data/credit_card_elegibilty.csv'\n",
        "\n",
        "dataset = pd.read_csv(url, delimiter=',')"
      ],
      "metadata": {
        "colab": {
          "base_uri": "https://localhost:8080/",
          "height": 272
        },
        "id": "9-doj67VQ-Ra",
        "outputId": "1fcb8df8-cd79-4c59-bc42-88d74cc929ce"
      },
      "execution_count": 3,
      "outputs": [
        {
          "output_type": "error",
          "ename": "ParserError",
          "evalue": "Error tokenizing data. C error: Expected 1 fields in line 41, saw 23\n",
          "traceback": [
            "\u001b[0;31m---------------------------------------------------------------------------\u001b[0m",
            "\u001b[0;31mParserError\u001b[0m                               Traceback (most recent call last)",
            "\u001b[0;32m<ipython-input-3-3da266781006>\u001b[0m in \u001b[0;36m<cell line: 4>\u001b[0;34m()\u001b[0m\n\u001b[1;32m      2\u001b[0m \u001b[0murl\u001b[0m \u001b[0;34m=\u001b[0m \u001b[0;34mr'https://github.com/jcterrero02/CoderHouse/blob/c0ce8360238cc0c0617326737689add4c4be13dd/Fundamentos%20para%20la%20Ciencia%20de%20Datos/data/credit_card_elegibilty.csv'\u001b[0m\u001b[0;34m\u001b[0m\u001b[0;34m\u001b[0m\u001b[0m\n\u001b[1;32m      3\u001b[0m \u001b[0;34m\u001b[0m\u001b[0m\n\u001b[0;32m----> 4\u001b[0;31m \u001b[0mdataset\u001b[0m \u001b[0;34m=\u001b[0m \u001b[0mpd\u001b[0m\u001b[0;34m.\u001b[0m\u001b[0mread_csv\u001b[0m\u001b[0;34m(\u001b[0m\u001b[0murl\u001b[0m\u001b[0;34m,\u001b[0m \u001b[0mdelimiter\u001b[0m\u001b[0;34m=\u001b[0m\u001b[0;34m','\u001b[0m\u001b[0;34m)\u001b[0m\u001b[0;34m\u001b[0m\u001b[0;34m\u001b[0m\u001b[0m\n\u001b[0m",
            "\u001b[0;32m/usr/local/lib/python3.10/dist-packages/pandas/io/parsers/readers.py\u001b[0m in \u001b[0;36mread_csv\u001b[0;34m(filepath_or_buffer, sep, delimiter, header, names, index_col, usecols, dtype, engine, converters, true_values, false_values, skipinitialspace, skiprows, skipfooter, nrows, na_values, keep_default_na, na_filter, verbose, skip_blank_lines, parse_dates, infer_datetime_format, keep_date_col, date_parser, date_format, dayfirst, cache_dates, iterator, chunksize, compression, thousands, decimal, lineterminator, quotechar, quoting, doublequote, escapechar, comment, encoding, encoding_errors, dialect, on_bad_lines, delim_whitespace, low_memory, memory_map, float_precision, storage_options, dtype_backend)\u001b[0m\n\u001b[1;32m    910\u001b[0m     \u001b[0mkwds\u001b[0m\u001b[0;34m.\u001b[0m\u001b[0mupdate\u001b[0m\u001b[0;34m(\u001b[0m\u001b[0mkwds_defaults\u001b[0m\u001b[0;34m)\u001b[0m\u001b[0;34m\u001b[0m\u001b[0;34m\u001b[0m\u001b[0m\n\u001b[1;32m    911\u001b[0m \u001b[0;34m\u001b[0m\u001b[0m\n\u001b[0;32m--> 912\u001b[0;31m     \u001b[0;32mreturn\u001b[0m \u001b[0m_read\u001b[0m\u001b[0;34m(\u001b[0m\u001b[0mfilepath_or_buffer\u001b[0m\u001b[0;34m,\u001b[0m \u001b[0mkwds\u001b[0m\u001b[0;34m)\u001b[0m\u001b[0;34m\u001b[0m\u001b[0;34m\u001b[0m\u001b[0m\n\u001b[0m\u001b[1;32m    913\u001b[0m \u001b[0;34m\u001b[0m\u001b[0m\n\u001b[1;32m    914\u001b[0m \u001b[0;34m\u001b[0m\u001b[0m\n",
            "\u001b[0;32m/usr/local/lib/python3.10/dist-packages/pandas/io/parsers/readers.py\u001b[0m in \u001b[0;36m_read\u001b[0;34m(filepath_or_buffer, kwds)\u001b[0m\n\u001b[1;32m    581\u001b[0m \u001b[0;34m\u001b[0m\u001b[0m\n\u001b[1;32m    582\u001b[0m     \u001b[0;32mwith\u001b[0m \u001b[0mparser\u001b[0m\u001b[0;34m:\u001b[0m\u001b[0;34m\u001b[0m\u001b[0;34m\u001b[0m\u001b[0m\n\u001b[0;32m--> 583\u001b[0;31m         \u001b[0;32mreturn\u001b[0m \u001b[0mparser\u001b[0m\u001b[0;34m.\u001b[0m\u001b[0mread\u001b[0m\u001b[0;34m(\u001b[0m\u001b[0mnrows\u001b[0m\u001b[0;34m)\u001b[0m\u001b[0;34m\u001b[0m\u001b[0;34m\u001b[0m\u001b[0m\n\u001b[0m\u001b[1;32m    584\u001b[0m \u001b[0;34m\u001b[0m\u001b[0m\n\u001b[1;32m    585\u001b[0m \u001b[0;34m\u001b[0m\u001b[0m\n",
            "\u001b[0;32m/usr/local/lib/python3.10/dist-packages/pandas/io/parsers/readers.py\u001b[0m in \u001b[0;36mread\u001b[0;34m(self, nrows)\u001b[0m\n\u001b[1;32m   1702\u001b[0m                     \u001b[0mcolumns\u001b[0m\u001b[0;34m,\u001b[0m\u001b[0;34m\u001b[0m\u001b[0;34m\u001b[0m\u001b[0m\n\u001b[1;32m   1703\u001b[0m                     \u001b[0mcol_dict\u001b[0m\u001b[0;34m,\u001b[0m\u001b[0;34m\u001b[0m\u001b[0;34m\u001b[0m\u001b[0m\n\u001b[0;32m-> 1704\u001b[0;31m                 \u001b[0;34m)\u001b[0m \u001b[0;34m=\u001b[0m \u001b[0mself\u001b[0m\u001b[0;34m.\u001b[0m\u001b[0m_engine\u001b[0m\u001b[0;34m.\u001b[0m\u001b[0mread\u001b[0m\u001b[0;34m(\u001b[0m  \u001b[0;31m# type: ignore[attr-defined]\u001b[0m\u001b[0;34m\u001b[0m\u001b[0;34m\u001b[0m\u001b[0m\n\u001b[0m\u001b[1;32m   1705\u001b[0m                     \u001b[0mnrows\u001b[0m\u001b[0;34m\u001b[0m\u001b[0;34m\u001b[0m\u001b[0m\n\u001b[1;32m   1706\u001b[0m                 )\n",
            "\u001b[0;32m/usr/local/lib/python3.10/dist-packages/pandas/io/parsers/c_parser_wrapper.py\u001b[0m in \u001b[0;36mread\u001b[0;34m(self, nrows)\u001b[0m\n\u001b[1;32m    232\u001b[0m         \u001b[0;32mtry\u001b[0m\u001b[0;34m:\u001b[0m\u001b[0;34m\u001b[0m\u001b[0;34m\u001b[0m\u001b[0m\n\u001b[1;32m    233\u001b[0m             \u001b[0;32mif\u001b[0m \u001b[0mself\u001b[0m\u001b[0;34m.\u001b[0m\u001b[0mlow_memory\u001b[0m\u001b[0;34m:\u001b[0m\u001b[0;34m\u001b[0m\u001b[0;34m\u001b[0m\u001b[0m\n\u001b[0;32m--> 234\u001b[0;31m                 \u001b[0mchunks\u001b[0m \u001b[0;34m=\u001b[0m \u001b[0mself\u001b[0m\u001b[0;34m.\u001b[0m\u001b[0m_reader\u001b[0m\u001b[0;34m.\u001b[0m\u001b[0mread_low_memory\u001b[0m\u001b[0;34m(\u001b[0m\u001b[0mnrows\u001b[0m\u001b[0;34m)\u001b[0m\u001b[0;34m\u001b[0m\u001b[0;34m\u001b[0m\u001b[0m\n\u001b[0m\u001b[1;32m    235\u001b[0m                 \u001b[0;31m# destructive to chunks\u001b[0m\u001b[0;34m\u001b[0m\u001b[0;34m\u001b[0m\u001b[0m\n\u001b[1;32m    236\u001b[0m                 \u001b[0mdata\u001b[0m \u001b[0;34m=\u001b[0m \u001b[0m_concatenate_chunks\u001b[0m\u001b[0;34m(\u001b[0m\u001b[0mchunks\u001b[0m\u001b[0;34m)\u001b[0m\u001b[0;34m\u001b[0m\u001b[0;34m\u001b[0m\u001b[0m\n",
            "\u001b[0;32m/usr/local/lib/python3.10/dist-packages/pandas/_libs/parsers.pyx\u001b[0m in \u001b[0;36mpandas._libs.parsers.TextReader.read_low_memory\u001b[0;34m()\u001b[0m\n",
            "\u001b[0;32m/usr/local/lib/python3.10/dist-packages/pandas/_libs/parsers.pyx\u001b[0m in \u001b[0;36mpandas._libs.parsers.TextReader._read_rows\u001b[0;34m()\u001b[0m\n",
            "\u001b[0;32m/usr/local/lib/python3.10/dist-packages/pandas/_libs/parsers.pyx\u001b[0m in \u001b[0;36mpandas._libs.parsers.TextReader._tokenize_rows\u001b[0;34m()\u001b[0m\n",
            "\u001b[0;32m/usr/local/lib/python3.10/dist-packages/pandas/_libs/parsers.pyx\u001b[0m in \u001b[0;36mpandas._libs.parsers.TextReader._check_tokenize_status\u001b[0;34m()\u001b[0m\n",
            "\u001b[0;32m/usr/local/lib/python3.10/dist-packages/pandas/_libs/parsers.pyx\u001b[0m in \u001b[0;36mpandas._libs.parsers.raise_parser_error\u001b[0;34m()\u001b[0m\n",
            "\u001b[0;31mParserError\u001b[0m: Error tokenizing data. C error: Expected 1 fields in line 41, saw 23\n"
          ]
        }
      ]
    },
    {
      "cell_type": "markdown",
      "source": [
        "Variable\tDescription\n",
        "*  **ID**\tAn identifier for each individual (customer).\n",
        "* **Gender**\tThe gender of the individual.\n",
        "* **Own_car**\tA binary feature indicating whether the individual owns a car.\n",
        "* **Own_property**\tA binary feature indicating whether the individual owns a property.\n",
        "* **Work_phone**\tA binary feature indicating whether the individual has a work phone.\n",
        "* **Phone**\tA binary feature indicating whether the individual has a phone.\n",
        "* **Email**\tA binary feature indicating whether the individual has provided an email address.\n",
        "* **Unemployed**\tA binary feature indicating whether the individual is unemployed.\n",
        "* **Num_children**\tThe number of children the individual has.\n",
        "* **Num_family**\tThe total number of family members.\n",
        "* **Account_length**\tThe length of the individual's account with a bank or financial institution.\n",
        "* **Total_income**\tThe total income of the individual.\n",
        "* **Age**\tThe age of the individual.\n",
        "* **Years_employed**\tThe number of years the individual has been employed.\n",
        "* **Income_type**\tThe type of income (e.g., employed, self-employed, etc.).\n",
        "* **Education_type**\tThe education level of the individual.\n",
        "* **Family_status**\tThe family status of the individual.\n",
        "* **Housing_type**\tThe type of housing the individual lives in.\n",
        "* **Occupation_type**\tThe type of occupation the individual is engaged in.\n",
        "* **Target**\tThe target variable for the classification task, indicating whether the individual is eligible for a credit card or not (e.g., Yes/No, 1/0)."
      ],
      "metadata": {
        "id": "OlYOihhGW19S"
      }
    },
    {
      "cell_type": "markdown",
      "source": [
        "**Preguntas a responder sobre el dataset**\n",
        "1. Existe una relación entre la edad y la aprobación de una tarjeta de crédito?\n",
        "2. Los aplicantes con ingresos más altos tienen probabilidad más alta de aprobación de una tarjeta de crédito?\n",
        "3. La cantidad de dependientes afecta la probabilidad de aprobación de una tarjeta de crédito?\n",
        "4. Existe una diferencia significativa entre la elegibilidad de la tarjeta dependiendo el género del solicitante?\n",
        "5. El tipo de trabajo influye en la elegibilidad?"
      ],
      "metadata": {
        "id": "CA_hR7ywmuMv"
      }
    },
    {
      "cell_type": "code",
      "source": [
        "# Visualizacion de las primeras 5 filas del dataset\n",
        "dataset.head(5)"
      ],
      "metadata": {
        "id": "EBYTQcoARgMn"
      },
      "execution_count": null,
      "outputs": []
    },
    {
      "cell_type": "code",
      "source": [
        "dataset.info()"
      ],
      "metadata": {
        "id": "FfyoL7BgkyLO"
      },
      "execution_count": null,
      "outputs": []
    },
    {
      "cell_type": "code",
      "source": [
        "dataset.isnull().sum()"
      ],
      "metadata": {
        "id": "K1hx2QeSn_o5"
      },
      "execution_count": null,
      "outputs": []
    },
    {
      "cell_type": "markdown",
      "source": [
        "No existen valores nulos dentro del dataset"
      ],
      "metadata": {
        "id": "lEig--PPoE3l"
      }
    },
    {
      "cell_type": "code",
      "source": [
        "# Descripcion de Variable Objetivo/Dependiente\n",
        "dataset['Target'].describe()"
      ],
      "metadata": {
        "id": "ea_MQBlHYXLT"
      },
      "execution_count": null,
      "outputs": []
    },
    {
      "cell_type": "code",
      "source": [
        "dataset['Target'].value_counts()"
      ],
      "metadata": {
        "id": "f-a4IL29fWKm"
      },
      "execution_count": null,
      "outputs": []
    },
    {
      "cell_type": "code",
      "source": [
        "# Conteo de la variable objetivo\n",
        "target_counts = dataset['Target'].value_counts()\n",
        "\n",
        "labels = ['No Elegible', 'Elegible']\n",
        "colors = ['lightgreen', 'lightblue']\n",
        "\n",
        "plt.pie(target_counts, labels=labels, autopct='%1.1f%%', colors=colors, shadow=True, startangle=90)\n",
        "plt.title('Distribucion de la Variable Objetivo')\n",
        "plt.show()\n"
      ],
      "metadata": {
        "id": "u7D9IktXYgNv"
      },
      "execution_count": null,
      "outputs": []
    },
    {
      "cell_type": "markdown",
      "source": [
        "Se evidencia que tenemos un dataset desbalanceado"
      ],
      "metadata": {
        "id": "TqttSmiNZMLn"
      }
    },
    {
      "cell_type": "code",
      "source": [
        "# Veamos la distribucion de los ingresos comparado con la variable objetivo\n",
        "sns.boxplot(data=dataset, y= 'Total_income', x=\"Target\")\n"
      ],
      "metadata": {
        "id": "rcczMnr0gKXh"
      },
      "execution_count": null,
      "outputs": []
    },
    {
      "cell_type": "code",
      "source": [
        "income_pivot = dataset.pivot_table(values='Total_income', index='Target', aggfunc='mean')\n",
        "print(income_pivot)"
      ],
      "metadata": {
        "id": "rCM1yMg4kE3d"
      },
      "execution_count": null,
      "outputs": []
    },
    {
      "cell_type": "code",
      "source": [
        "# Verifiquemos si la cantidad de hijos afecta la elegibilidad de la tarjeta de crédito\n",
        "\n",
        "sns.boxplot(data=dataset, y= 'Num_children', x=\"Target\")\n",
        "plt.show()"
      ],
      "metadata": {
        "id": "1NE037R2phCY"
      },
      "execution_count": null,
      "outputs": []
    },
    {
      "cell_type": "markdown",
      "source": [
        "Aparte de algunos valores atipicos no aparenta ver relación negativa entre la cantidad de hijos y la aprobación de la tarjeta de crédito"
      ],
      "metadata": {
        "id": "EptbMcFCqAn_"
      }
    },
    {
      "cell_type": "code",
      "source": [
        "# Verifiquemos si el sexo afecta la variable objetivo\n",
        "sns.countplot(x = 'Gender', hue = 'Target', data = dataset)\n",
        "plt.show()\n"
      ],
      "metadata": {
        "id": "-XV8wKHjfdpM"
      },
      "execution_count": null,
      "outputs": []
    },
    {
      "cell_type": "markdown",
      "source": [
        "La diferencia entre las personas que reciben una tarjeta y las que no, a nivel de ingresos totales no aparenta ser tan significativa"
      ],
      "metadata": {
        "id": "XS1Or9c_kGr-"
      }
    },
    {
      "cell_type": "code",
      "source": [
        "sns.boxplot(x = \"Target\", y = \"Age\", hue='Gender', data = dataset)"
      ],
      "metadata": {
        "id": "G02Nmt9Kk7hS"
      },
      "execution_count": null,
      "outputs": []
    },
    {
      "cell_type": "code",
      "source": [
        "# Analizar si el tipo de ocupación afecta la variable objetivo\n",
        "plt.figure(figsize=(20, 6))\n",
        "\n",
        "sns.countplot(x = \"Occupation_type\", hue = \"Target\", data = dataset)\n",
        "plt.xlabel(\"Occupation Type\", labelpad=10.0)\n",
        "plt.xticks(rotation=45)\n",
        "plt.show()"
      ],
      "metadata": {
        "id": "sdkZnqT6qv6N"
      },
      "execution_count": null,
      "outputs": []
    },
    {
      "cell_type": "markdown",
      "source": [
        "La ocupación \"Laborers\" aparenta tener alta incidencia en la no aprobación del crédito"
      ],
      "metadata": {
        "id": "wRmLI_GVrCZb"
      }
    }
  ]
}